{
 "cells": [
  {
   "cell_type": "code",
   "execution_count": null,
   "id": "d86e40c0",
   "metadata": {},
   "outputs": [],
   "source": [
    "# Tool to convert geopandas vector data into rasterized xarray data.\n",
    "# !python -m pip install geocube"
   ]
  },
  {
   "cell_type": "code",
   "execution_count": null,
   "id": "c37cf212",
   "metadata": {
    "tags": []
   },
   "outputs": [],
   "source": [
    "import json\n",
    "from osmxtract import overpass, location\n",
    "import geopandas as gpd\n",
    "import math \n",
    "\n",
    "import os\n",
    "import rasterio\n",
    "from rasterio import features\n",
    "import numpy as np\n",
    "from matplotlib import pyplot as plt\n",
    "import pandas as pd \n",
    "from shapely.geometry import Point\n",
    "import folium"
   ]
  },
  {
   "cell_type": "code",
   "execution_count": null,
   "id": "43561639",
   "metadata": {
    "tags": []
   },
   "outputs": [],
   "source": [
    "import geemap\n",
    "import ee\n",
    "\n",
    "# # If you are running this notebook for the first time, you need to activate the command below for the authentication flow:\n",
    "# ee.Authenticate()\n"
   ]
  },
  {
   "cell_type": "code",
   "execution_count": null,
   "id": "f07c9037",
   "metadata": {
    "tags": []
   },
   "outputs": [],
   "source": [
    "ee.Authenticate()"
   ]
  },
  {
   "cell_type": "code",
   "execution_count": null,
   "id": "79b2f736",
   "metadata": {
    "tags": []
   },
   "outputs": [],
   "source": [
    "try:\n",
    "    # Initialize the library.\n",
    "    ee.Initialize()\n",
    "    print('Google Earth Engine has initialized successfully!')\n",
    "except ee.EEException as e:\n",
    "    print('Google Earth Engine has failed to initialize!')\n",
    "except:\n",
    "    print(\"Unexpected error:\", sys.exc_info()[0])\n",
    "    raise"
   ]
  },
  {
   "cell_type": "code",
   "execution_count": null,
   "id": "5b593d26",
   "metadata": {
    "tags": []
   },
   "outputs": [],
   "source": [
    "\"\"\"Reading the tweets as dataframe\"\"\""
   ]
  },
  {
   "cell_type": "code",
   "execution_count": null,
   "id": "757cfa97",
   "metadata": {
    "tags": []
   },
   "outputs": [],
   "source": [
    "df1 = pd.read_csv('edited_data.csv')\n",
    "print(df1) "
   ]
  },
  {
   "cell_type": "code",
   "execution_count": null,
   "id": "081475fc",
   "metadata": {
    "tags": []
   },
   "outputs": [],
   "source": [
    "#counting the repetitive rows\n",
    "df1['count'] = df1.groupby(['x', 'y'])['x'].transform('count') "
   ]
  },
  {
   "cell_type": "code",
   "execution_count": null,
   "id": "e81806d8",
   "metadata": {
    "tags": []
   },
   "outputs": [],
   "source": [
    "df1"
   ]
  },
  {
   "cell_type": "code",
   "execution_count": null,
   "id": "cea2aa24",
   "metadata": {
    "tags": []
   },
   "outputs": [],
   "source": [
    "df1.median()"
   ]
  },
  {
   "cell_type": "code",
   "execution_count": null,
   "id": "3f14606f",
   "metadata": {
    "tags": []
   },
   "outputs": [],
   "source": [
    "df1_unique = df1.drop_duplicates()"
   ]
  },
  {
   "cell_type": "code",
   "execution_count": null,
   "id": "4d24a428",
   "metadata": {
    "tags": []
   },
   "outputs": [],
   "source": [
    "len(df1)"
   ]
  },
  {
   "cell_type": "code",
   "execution_count": null,
   "id": "f11d28b5",
   "metadata": {
    "tags": []
   },
   "outputs": [],
   "source": [
    "df1_unique"
   ]
  },
  {
   "cell_type": "code",
   "execution_count": null,
   "id": "ff4c0e75",
   "metadata": {
    "tags": []
   },
   "outputs": [],
   "source": [
    "len(df1_unique)"
   ]
  },
  {
   "cell_type": "code",
   "execution_count": null,
   "id": "09fe4c2d",
   "metadata": {},
   "outputs": [],
   "source": [
    "\"\"\"\n",
    "#plotting the tweets on base map\n",
    "#sample data\n",
    "map = folium.Map(location=[df1_unique['y'][0], df1_unique['x'][0]], zoom_start=4)\n",
    "\n",
    "# Add markers for each city in the dataframe\n",
    "for index, row in df1_unique.iterrows():\n",
    "    folium.Marker(location=[row['y'], row['x']],icon=folium.Icon(color='red', icon='ok-circle')).add_to(map)\"\"\""
   ]
  },
  {
   "cell_type": "code",
   "execution_count": null,
   "id": "e4ba92cc",
   "metadata": {},
   "outputs": [],
   "source": [
    "#map"
   ]
  },
  {
   "cell_type": "code",
   "execution_count": null,
   "id": "87052328",
   "metadata": {
    "tags": []
   },
   "outputs": [],
   "source": [
    "# Convert the x,y points to a geopandas GeoDataFrame\n",
    "geometry = [Point(xy) for xy in zip(df1_unique['x'], df1_unique['y'])]\n",
    "gdf = gpd.GeoDataFrame(df1_unique, geometry=geometry, crs='EPSG:28992')"
   ]
  },
  {
   "cell_type": "code",
   "execution_count": null,
   "id": "4441c107",
   "metadata": {
    "tags": []
   },
   "outputs": [],
   "source": [
    "gdf = gdf.set_crs(epsg=28992)"
   ]
  },
  {
   "cell_type": "code",
   "execution_count": null,
   "id": "55b5fef5",
   "metadata": {
    "tags": []
   },
   "outputs": [],
   "source": [
    "#0.009 degrees * 111 km/degree = 0.999 km\n",
    "# Create a buffer of 0.009 degrees around the points: 1000 meters\n",
    "buffered_gdf = gdf.geometry.buffer(0.005)"
   ]
  },
  {
   "cell_type": "code",
   "execution_count": null,
   "id": "273cf97f",
   "metadata": {
    "tags": []
   },
   "outputs": [],
   "source": [
    "# Plot the buffered points using geopandas\n",
    "ax = buffered_gdf.plot(alpha=0.5, edgecolor='k')\n",
    "gdf.plot(ax=ax, color='red', markersize=2)"
   ]
  },
  {
   "cell_type": "code",
   "execution_count": null,
   "id": "d56d4095",
   "metadata": {},
   "outputs": [],
   "source": [
    "gdf_buf = gdf.iloc[:3]"
   ]
  },
  {
   "cell_type": "code",
   "execution_count": null,
   "id": "ef28cba9",
   "metadata": {},
   "outputs": [],
   "source": [
    "gdf_buf"
   ]
  },
  {
   "cell_type": "code",
   "execution_count": null,
   "id": "3bf6bf77",
   "metadata": {},
   "outputs": [],
   "source": [
    "bu_gdf = gdf_buf.geometry.buffer(0.005)"
   ]
  },
  {
   "cell_type": "code",
   "execution_count": null,
   "id": "eff95eb9",
   "metadata": {},
   "outputs": [],
   "source": [
    "# Plot the buffered points using geopandas\n",
    "ax = bu_gdf.plot(alpha=0.5, edgecolor='k')\n",
    "gdf_buf.plot(ax=ax, color='red', markersize=2)\n",
    "# Set the axis labels\n",
    "ax.set_xlabel('Longitude')\n",
    "ax.set_ylabel('Latitude')\n"
   ]
  },
  {
   "cell_type": "code",
   "execution_count": null,
   "id": "60e1e700",
   "metadata": {
    "tags": []
   },
   "outputs": [],
   "source": [
    "#creaing a column with the buffer \n",
    "gdf_buffers = gdf.copy()\n",
    "gdf_buffers['geometry'] = gdf.buffer(0.005)"
   ]
  },
  {
   "cell_type": "code",
   "execution_count": null,
   "id": "80355d27",
   "metadata": {
    "tags": []
   },
   "outputs": [],
   "source": [
    "# Perform a spatial join to count the number of points within each buffer\n",
    "join = gpd.sjoin(gdf_buffers, gdf, op='contains', how='left')\n",
    "counts = join.groupby(join.index).size()\n",
    "\n",
    "# Add the buffer counts as a new column in the original GeoDataFrame\n",
    "gdf['buffer_counts'] = counts"
   ]
  },
  {
   "cell_type": "code",
   "execution_count": null,
   "id": "219d4331",
   "metadata": {
    "tags": []
   },
   "outputs": [],
   "source": [
    "gdf['buffer'] = gdf.geometry.buffer(0.005)"
   ]
  },
  {
   "cell_type": "code",
   "execution_count": null,
   "id": "e9b3a2b7",
   "metadata": {
    "tags": []
   },
   "outputs": [],
   "source": [
    "gdf"
   ]
  },
  {
   "cell_type": "code",
   "execution_count": null,
   "id": "7e8fbb2b",
   "metadata": {},
   "outputs": [],
   "source": [
    "#visual representation of the first buffer\n",
    "# Filter the GeoDataFrame to include only the first entry\n",
    "first_entry = gdf.iloc[[0]]\n",
    "\n",
    "# Get the polygon buffer geometry for the first entry\n",
    "buffer_polygon = first_entry['buffer'].values[0]\n",
    "\n",
    "# Filter the GeoDataFrame to include only the points within the buffer polygon\n",
    "points_within_buffer = gdf[gdf.geometry.within(buffer_polygon)]\n",
    "# Create a GeoDataFrame for the buffer polygon\n",
    "buffer_gdf0 = gpd.GeoDataFrame(geometry=[buffer_polygon])\n",
    "\n",
    "# Get the x and y extents of the buffer polygon\n",
    "x_min, y_min, x_max, y_max = buffer_polygon.bounds\n",
    "\n",
    "# Plot the buffer polygon and points within it\n",
    "fig, ax = plt.subplots()\n",
    "buffer_gdf0.plot(ax=ax, color='blue', alpha=0.5)\n",
    "points_within_buffer.plot(ax=ax, color='red', markersize=5)\n",
    "\n",
    "# Set the plot limits to match the extent of the buffer polygon\n",
    "ax.set_xlim(x_min, x_max)\n",
    "ax.set_ylim(y_min, y_max)\n",
    "\n",
    "# Set the axis labels\n",
    "ax.set_xlabel('Longitude')\n",
    "ax.set_ylabel('Latitude')\n",
    "\n",
    "# Show the plot\n",
    "plt.show()"
   ]
  },
  {
   "cell_type": "code",
   "execution_count": null,
   "id": "8d90996d",
   "metadata": {
    "tags": []
   },
   "outputs": [],
   "source": [
    "gdf['count'].describe()"
   ]
  },
  {
   "cell_type": "code",
   "execution_count": null,
   "id": "e0d79d1d",
   "metadata": {
    "tags": []
   },
   "outputs": [],
   "source": [
    "gdf['count'].value_counts()"
   ]
  },
  {
   "cell_type": "code",
   "execution_count": null,
   "id": "ad5fc191",
   "metadata": {
    "tags": []
   },
   "outputs": [],
   "source": [
    "gdf['buffer_counts'].value_counts()"
   ]
  },
  {
   "cell_type": "code",
   "execution_count": null,
   "id": "600d0cf6",
   "metadata": {
    "tags": []
   },
   "outputs": [],
   "source": [
    "gdf['buffer_counts'].describe()"
   ]
  },
  {
   "cell_type": "code",
   "execution_count": null,
   "id": "9489e0d9",
   "metadata": {
    "tags": []
   },
   "outputs": [],
   "source": [
    "threshold = gdf['buffer_counts'].quantile(0.25)\n",
    "threshold1 = gdf['count'].quantile(0.25)"
   ]
  },
  {
   "cell_type": "code",
   "execution_count": null,
   "id": "41655a44",
   "metadata": {
    "tags": []
   },
   "outputs": [],
   "source": [
    "print(threshold)\n",
    "print(threshold1)"
   ]
  },
  {
   "cell_type": "code",
   "execution_count": null,
   "id": "58a72e6f",
   "metadata": {
    "tags": []
   },
   "outputs": [],
   "source": [
    "con1 = gdf['count'] > threshold1\n",
    "con2 = gdf['buffer_counts'] > threshold\n",
    "gdf_filtered = gdf[con1 & con2]"
   ]
  },
  {
   "cell_type": "code",
   "execution_count": null,
   "id": "1fe29c66",
   "metadata": {
    "tags": []
   },
   "outputs": [],
   "source": [
    "gdf_filtered"
   ]
  },
  {
   "cell_type": "code",
   "execution_count": null,
   "id": "f075ae6d",
   "metadata": {
    "tags": []
   },
   "outputs": [],
   "source": [
    "gdf_filtered = gdf_filtered.reset_index()"
   ]
  },
  {
   "cell_type": "code",
   "execution_count": null,
   "id": "08712620",
   "metadata": {
    "tags": []
   },
   "outputs": [],
   "source": [
    "gdf_filtered "
   ]
  },
  {
   "cell_type": "code",
   "execution_count": null,
   "id": "573699b2",
   "metadata": {
    "tags": []
   },
   "outputs": [],
   "source": [
    "# create a new column in the GeoDataFrame to store the polygon index\n",
    "gdf_filtered['polygon_index'] = None\n",
    "\n",
    "# assign a unique index to each point based on the buffer polygon it falls within\n",
    "for i, poly in enumerate(gdf_filtered['buffer']):\n",
    "    mask = gdf_filtered['geometry'].within(poly)\n",
    "    gdf_filtered.loc[mask, 'polygon_index'] = i\n"
   ]
  },
  {
   "cell_type": "code",
   "execution_count": null,
   "id": "d64258b4",
   "metadata": {
    "tags": []
   },
   "outputs": [],
   "source": [
    "gdf_filtered['polygon_index'].value_counts()"
   ]
  },
  {
   "cell_type": "code",
   "execution_count": null,
   "id": "a2d43383",
   "metadata": {},
   "outputs": [],
   "source": [
    "gdf_filtered['polygon_index'].nunique()"
   ]
  },
  {
   "cell_type": "code",
   "execution_count": null,
   "id": "66fe5d9a",
   "metadata": {
    "tags": []
   },
   "outputs": [],
   "source": [
    "gdf_filtered"
   ]
  },
  {
   "cell_type": "code",
   "execution_count": null,
   "id": "d00e4d5a",
   "metadata": {},
   "outputs": [],
   "source": [
    "chcek0 = gdf_filtered.loc[gdf_filtered['polygon_index'] == 42538]"
   ]
  },
  {
   "cell_type": "code",
   "execution_count": null,
   "id": "b0c62b7d",
   "metadata": {},
   "outputs": [],
   "source": [
    "chcek0"
   ]
  },
  {
   "cell_type": "code",
   "execution_count": null,
   "id": "1906f590",
   "metadata": {},
   "outputs": [],
   "source": [
    " map = folium.Map(location=[chcek0['y'][3], chcek0['x'][3]], zoom_start=4)\n",
    "\n",
    " # Add markers for each city in the dataframe\n",
    " for index, row in chcek0.iterrows():\n",
    "        folium.Marker(location=[row['y'], row['x']],icon=folium.Icon(color='red', icon='ok-circle')).add_to(map)"
   ]
  },
  {
   "cell_type": "code",
   "execution_count": null,
   "id": "6d16c112",
   "metadata": {},
   "outputs": [],
   "source": [
    " map"
   ]
  },
  {
   "cell_type": "code",
   "execution_count": null,
   "id": "2ce3ab9f",
   "metadata": {
    "tags": []
   },
   "outputs": [],
   "source": [
    "# select only one point from each polygon_index based on the maximum count value\n",
    "max_counts = gdf_filtered.groupby('polygon_index')['count'].idxmax()\n",
    "selected_points = gdf_filtered.loc[max_counts]"
   ]
  },
  {
   "cell_type": "code",
   "execution_count": null,
   "id": "372ada57",
   "metadata": {
    "tags": []
   },
   "outputs": [],
   "source": [
    "selected_points"
   ]
  },
  {
   "cell_type": "code",
   "execution_count": null,
   "id": "016006cb",
   "metadata": {},
   "outputs": [],
   "source": [
    "selected_points['polygon_index'].value_counts()"
   ]
  },
  {
   "cell_type": "code",
   "execution_count": null,
   "id": "04a34b6a",
   "metadata": {},
   "outputs": [],
   "source": [
    "selected_points['polygon_index'].nunique()"
   ]
  },
  {
   "cell_type": "code",
   "execution_count": null,
   "id": "3965261d",
   "metadata": {},
   "outputs": [],
   "source": [
    "filepath = \"shapefiles_tweet\"\n",
    "selected_points.to_csv(f\"{filepath}/selection_con1.csv\")"
   ]
  },
  {
   "cell_type": "code",
   "execution_count": null,
   "id": "a632dde9",
   "metadata": {},
   "outputs": [],
   "source": [
    "chcek = selected_points.loc[selected_points['polygon_index'] == 42538]"
   ]
  },
  {
   "cell_type": "code",
   "execution_count": null,
   "id": "7416b259",
   "metadata": {},
   "outputs": [],
   "source": [
    "chcek"
   ]
  },
  {
   "cell_type": "code",
   "execution_count": null,
   "id": "e925a658",
   "metadata": {},
   "outputs": [],
   "source": [
    " map = folium.Map(location=[chcek['y'][7216], chcek['x'][7216]], zoom_start=4)\n",
    "\n",
    "# # Add markers for each city in the dataframe\n",
    " for index, row in chcek.iterrows():\n",
    "        folium.Marker(location=[row['y'], row['x']],icon=folium.Icon(color='red', icon='ok-circle')).add_to(map)\n",
    "\n",
    "map"
   ]
  },
  {
   "cell_type": "code",
   "execution_count": null,
   "id": "a1776383",
   "metadata": {
    "tags": []
   },
   "outputs": [],
   "source": [
    "# map = folium.Map(location=[selected_points['y'][265], selected_points['x'][265]], zoom_start=4)\n",
    "\n",
    "# # Add markers for each city in the dataframe\n",
    "# for index, row in selected_points.iterrows():\n",
    "#     folium.Marker(location=[row['y'], row['x']],icon=folium.Icon(color='red', icon='ok-circle')).add_to(map)"
   ]
  },
  {
   "cell_type": "code",
   "execution_count": null,
   "id": "39191def",
   "metadata": {
    "tags": []
   },
   "outputs": [],
   "source": [
    "# map"
   ]
  },
  {
   "cell_type": "code",
   "execution_count": null,
   "id": "dc8ff508",
   "metadata": {},
   "outputs": [],
   "source": [
    "selection1 = selected_points.copy()"
   ]
  },
  {
   "cell_type": "code",
   "execution_count": null,
   "id": "514f8c7e",
   "metadata": {},
   "outputs": [],
   "source": [
    "selection1 = selection1.reset_index()"
   ]
  },
  {
   "cell_type": "code",
   "execution_count": null,
   "id": "a464b9da",
   "metadata": {},
   "outputs": [],
   "source": [
    "selection1 = selection1.drop(columns = 'level_0')\n",
    "selection1 = selection1.drop(columns = 'index')"
   ]
  },
  {
   "cell_type": "code",
   "execution_count": null,
   "id": "0c7e1411",
   "metadata": {},
   "outputs": [],
   "source": [
    "selection1 = selection1.set_crs(epsg=28992)"
   ]
  },
  {
   "cell_type": "code",
   "execution_count": null,
   "id": "0d4c142a",
   "metadata": {},
   "outputs": [],
   "source": [
    "selection1"
   ]
  },
  {
   "cell_type": "code",
   "execution_count": null,
   "id": "b56e3042",
   "metadata": {},
   "outputs": [],
   "source": [
    "# create a buffer around the points\n",
    "selection_buffers = selection1.copy()\n",
    "buffer_size = 0.09 # buffer size in degrees # 0.09 = 10,000 metres\n",
    "selection1['buffer_2'] = selection1.buffer(buffer_size)\n",
    "buffered_points = selection1.buffer(buffer_size)\n"
   ]
  },
  {
   "cell_type": "code",
   "execution_count": null,
   "id": "dcd75f2c",
   "metadata": {},
   "outputs": [],
   "source": [
    "# plot the buffer around the points\n",
    "ax = selection1.plot(cmap='Set2', alpha=0.5)\n",
    "buffered_points.plot(ax=ax, facecolor='none', edgecolor='red', linewidth=1)\n",
    "# Set the axis labels\n",
    "ax.set_xlabel('Longitude')\n",
    "ax.set_ylabel('Latitude')"
   ]
  },
  {
   "cell_type": "code",
   "execution_count": null,
   "id": "94288990",
   "metadata": {},
   "outputs": [],
   "source": [
    "count = []\n",
    "for i, buff in enumerate(buffered_points):\n",
    "    # create a mask to select points within the buffer\n",
    "    mask = selection1.within(buff)\n",
    "    # count the number of points within the buffer\n",
    "    num_points = mask.sum()\n",
    "    count.append(num_points)"
   ]
  },
  {
   "cell_type": "code",
   "execution_count": null,
   "id": "fbfdc82b",
   "metadata": {},
   "outputs": [],
   "source": [
    "selection1['count_buffer2'] = pd.Series(count)"
   ]
  },
  {
   "cell_type": "code",
   "execution_count": null,
   "id": "33cf3911",
   "metadata": {},
   "outputs": [],
   "source": [
    "\"\"\"\n",
    "# Perform a spatial join to count the number of points within each buffer\n",
    "join = gpd.sjoin(selection1,selection_buffers, op='contains', how='left')\n",
    "counts = join.groupby(join.index).size()\n",
    "\n",
    "# Add the buffer counts as a new column in the original GeoDataFrame\n",
    "selection1['buffer_counts_1'] = counts\"\"\"\n"
   ]
  },
  {
   "cell_type": "code",
   "execution_count": null,
   "id": "4fc2ec45",
   "metadata": {},
   "outputs": [],
   "source": [
    "selection1 "
   ]
  },
  {
   "cell_type": "code",
   "execution_count": null,
   "id": "11ce1ed0",
   "metadata": {},
   "outputs": [],
   "source": [
    "selection1['count_buffer2'].describe()"
   ]
  },
  {
   "cell_type": "code",
   "execution_count": null,
   "id": "b774c2d8",
   "metadata": {},
   "outputs": [],
   "source": [
    "selection1['count_buffer2'].value_counts()"
   ]
  },
  {
   "cell_type": "code",
   "execution_count": null,
   "id": "56fb74e3",
   "metadata": {},
   "outputs": [],
   "source": [
    "selection1"
   ]
  },
  {
   "cell_type": "code",
   "execution_count": null,
   "id": "e84d4f94",
   "metadata": {},
   "outputs": [],
   "source": [
    "# assign a unique index to each point based on the buffer polygon it falls within\n",
    "for i, poly in enumerate(selection1['buffer_2']):\n",
    "    mask = selection1['geometry'].within(poly)\n",
    "    selection1.loc[mask, 'polygon_index_1'] = i"
   ]
  },
  {
   "cell_type": "code",
   "execution_count": null,
   "id": "07d284a0",
   "metadata": {},
   "outputs": [],
   "source": [
    "selection1"
   ]
  },
  {
   "cell_type": "code",
   "execution_count": null,
   "id": "ab13ce72",
   "metadata": {},
   "outputs": [],
   "source": [
    "# calculate the threshold for buffer count\n",
    "threshold_buffer_count = selection1['count_buffer2'].quantile(0.75)\n",
    "print(threshold_buffer_count)\n",
    "# select points where the buffer count is greater than the threshold\n",
    "chosen_points = selection1.loc[selection1['count_buffer2'] >= threshold_buffer_count]"
   ]
  },
  {
   "cell_type": "code",
   "execution_count": null,
   "id": "8192ef95",
   "metadata": {},
   "outputs": [],
   "source": [
    "chosen_points"
   ]
  },
  {
   "cell_type": "code",
   "execution_count": null,
   "id": "ed42b414",
   "metadata": {},
   "outputs": [],
   "source": [
    "# select only one point from each polygon_index based on the maximum count value\n",
    "max_counts = chosen_points.groupby('polygon_index_1')['count'].idxmax()\n",
    "max_points = chosen_points.loc[max_counts]"
   ]
  },
  {
   "cell_type": "code",
   "execution_count": null,
   "id": "6c05bda1",
   "metadata": {},
   "outputs": [],
   "source": [
    "chosen_points =  chosen_points.drop(max_points.index)"
   ]
  },
  {
   "cell_type": "code",
   "execution_count": null,
   "id": "765915d8",
   "metadata": {},
   "outputs": [],
   "source": [
    "chosen_points"
   ]
  },
  {
   "cell_type": "code",
   "execution_count": null,
   "id": "ee72c4e4",
   "metadata": {},
   "outputs": [],
   "source": [
    "selection1 =  selection1.drop(chosen_points.index)"
   ]
  },
  {
   "cell_type": "code",
   "execution_count": null,
   "id": "219929af",
   "metadata": {},
   "outputs": [],
   "source": [
    "selection1"
   ]
  },
  {
   "cell_type": "code",
   "execution_count": null,
   "id": "646b4db5",
   "metadata": {},
   "outputs": [],
   "source": [
    "selection1 = selection1.reset_index()"
   ]
  },
  {
   "cell_type": "code",
   "execution_count": null,
   "id": "d574965a",
   "metadata": {},
   "outputs": [],
   "source": [
    "filepath = \"shapefiles_tweet\"\n",
    "selection1.to_csv(f\"{filepath}/selection1.csv\")"
   ]
  },
  {
   "cell_type": "code",
   "execution_count": null,
   "id": "822727ec",
   "metadata": {},
   "outputs": [],
   "source": [
    "map = folium.Map(location=[selection1['y'][0], selection1['x'][0]], zoom_start=4)\n",
    "\n",
    "# # Add markers for each city in the dataframe\n",
    "for index, row in selection1.iterrows():\n",
    "     folium.Marker(location=[row['y'], row['x']],icon=folium.Icon(color='red', icon='ok-circle')).add_to(map)"
   ]
  },
  {
   "cell_type": "code",
   "execution_count": null,
   "id": "e5312c1a",
   "metadata": {},
   "outputs": [],
   "source": [
    "map"
   ]
  },
  {
   "cell_type": "code",
   "execution_count": null,
   "id": "8b47adfd",
   "metadata": {},
   "outputs": [],
   "source": [
    "selected = selection1.iloc[:3]"
   ]
  },
  {
   "cell_type": "code",
   "execution_count": null,
   "id": "dfa8da31",
   "metadata": {},
   "outputs": [],
   "source": [
    "selected"
   ]
  },
  {
   "cell_type": "markdown",
   "id": "21c6de3e",
   "metadata": {
    "tags": []
   },
   "source": [
    "## Satellite Imagery"
   ]
  },
  {
   "cell_type": "code",
   "execution_count": null,
   "id": "29496256",
   "metadata": {
    "tags": []
   },
   "outputs": [],
   "source": [
    "def get_bounding_box(latitude_in_degrees, longitude_in_degrees, half_side_in_km):\n",
    "    assert half_side_in_km > 0\n",
    "    assert latitude_in_degrees >= -90.0 and latitude_in_degrees  <= 90.0\n",
    "    assert longitude_in_degrees >= -180.0 and longitude_in_degrees <= 180.0\n",
    "\n",
    "    #lat = math.radians(latitude_in_degrees)\n",
    "    #lon = math.radians(longitude_in_degrees)\n",
    "    lat = latitude_in_degrees*(math.pi / 180)\n",
    "    lon = longitude_in_degrees*(math.pi / 180)\n",
    "\n",
    "    radius  = 6371\n",
    "    # Radius of the parallel at given latitude\n",
    "    #parallel_radius = radius*math.cos(lat)\n",
    "\n",
    "    lat_min = lat - half_side_in_km/radius\n",
    "    lat_max = lat + half_side_in_km/radius\n",
    "    lon_min = lon - half_side_in_km/radius\n",
    "    lon_max = lon + half_side_in_km/radius\n",
    "    #lon_min = lon - half_side_in_km/parallel_radius\n",
    "    #lon_max = lon + half_side_in_km/parallel_radius\n",
    "    rad2deg = math.degrees\n",
    "\n",
    "    box = (rad2deg(lat_min),rad2deg(lon_min),rad2deg(lat_max),rad2deg(lon_max))\n",
    "    return (box)\n",
    "    # return lat_min,lon_min,lat_max,lon_max\n"
   ]
  },
  {
   "cell_type": "code",
   "execution_count": null,
   "id": "67eda94b",
   "metadata": {
    "tags": []
   },
   "outputs": [],
   "source": [
    "bounds =[]\n",
    "for index, row in selection1.iterrows():\n",
    "    # extract x and y values\n",
    "    target_lon = row['x']\n",
    "    target_lat = row['y']\n",
    "    half_side_in_km = 0.3145\n",
    "\n",
    "    #bounds = location.from_buffer(target_lat, target_lon, buffer_size=1000*half_side_in_km)\n",
    "    bounds1 = get_bounding_box(target_lat,target_lon,half_side_in_km)\n",
    "    bounds.append(bounds1)\n",
    "    "
   ]
  },
  {
   "cell_type": "code",
   "execution_count": null,
   "id": "07bcd983",
   "metadata": {},
   "outputs": [],
   "source": [
    "bnds = bounds[1]\n",
    "slope = (bnds[3]-bnds[1])/(bnds[2]-bnds[0])"
   ]
  },
  {
   "cell_type": "code",
   "execution_count": null,
   "id": "e225bea8",
   "metadata": {},
   "outputs": [],
   "source": [
    "slope"
   ]
  },
  {
   "cell_type": "code",
   "execution_count": null,
   "id": "89231626",
   "metadata": {},
   "outputs": [],
   "source": [
    "'''for i, value in enumerate(bounds):\n",
    "    min_long\n",
    "    query = overpass.ql_query(value, tag='building')\n",
    "    response = overpass.request(query)\n",
    "    feature_collection = overpass.as_geojson(response, 'polygon')\n",
    "    gdf1 = gpd.GeoDataFrame.from_features(feature_collection)\n",
    "    gdf_within_bound = gdf1.cx[min_lon:max_lon, min_lat:max_lat]\n",
    "    num_vectors_within_bound = len(gdf_within_bound)'''"
   ]
  },
  {
   "cell_type": "code",
   "execution_count": null,
   "id": "cf14c8b3",
   "metadata": {},
   "outputs": [],
   "source": [
    "buildings_count = []\n",
    "roads_count = []\n",
    "for i, value in enumerate(bounds):\n",
    "    query = overpass.ql_query(value, tag='building')\n",
    "    response = overpass.request(query)\n",
    "    feature_collection = overpass.as_geojson(response, 'polygon')\n",
    "    gdf1 = gpd.GeoDataFrame.from_features(feature_collection)\n",
    "    gdf_count = gdf1.cx[value[1]:value[3], value[0]:value[2]]\n",
    "    #print(i)\n",
    "    # Count the number of buildings\n",
    "    num_buildings = len(gdf_count)\n",
    "    #print(f\"Number of buildings within the bounding box{i} : {num_buildings}\")\n",
    "    buildings_count.append(num_buildings)\n",
    "    #gdf1 = gdf1.set_crs('EPSG:28992')\n",
    "    #buildings.append(gdf1)\n",
    "    #print(gdf1.columns)\n",
    "    #filename_building = gdf1.to_file(f'output_building/output_building_{i}.shp') \n",
    "    #gdf1.plot()\n",
    "\n",
    "    query2 = overpass.ql_query(value, tag='highway')\n",
    "    response2 = overpass.request(query2)\n",
    "    feature_collection2 = overpass.as_geojson(response2, 'linestring')\n",
    "    gdf2 = gpd.GeoDataFrame.from_features(feature_collection2)\n",
    "    gdf_count2 = gdf2.cx[value[1]:value[3], value[0]:value[2]]\n",
    "    # Count the number of buildings\n",
    "    num_roads = len(gdf_count2)\n",
    "    #print(f\"Number of roads within the bounding box{i} : {num_roads}\")\n",
    "    roads_count.append(num_roads)\n",
    "    #gdf2 = gdf2.set_crs('EPSG:28992')\n",
    "    #filename_road = gdf2.to_file(f'output_road/output_road_{i}.shp')\n",
    "    #roads.append(gdf2)\n",
    "    #gdf2.plot()"
   ]
  },
  {
   "cell_type": "code",
   "execution_count": null,
   "id": "a91b28ec",
   "metadata": {},
   "outputs": [],
   "source": [
    "# Create a new column from the list with the same index as gdf\n",
    "building_counts = pd.Series(buildings_count, index=selection1.index)\n",
    "\n",
    "# Concatenate the new column with gdf\n",
    "selction_new = pd.concat([selection1, building_counts.rename('building_counts')], axis=1)"
   ]
  },
  {
   "cell_type": "code",
   "execution_count": null,
   "id": "92a4b925",
   "metadata": {},
   "outputs": [],
   "source": [
    "selction_new"
   ]
  },
  {
   "cell_type": "code",
   "execution_count": null,
   "id": "cb852f59",
   "metadata": {},
   "outputs": [],
   "source": [
    "# Create a new column from the list with the same index as gdf\n",
    "road_counts = pd.Series(roads_count, index=selction_new.index)\n",
    "# Concatenate the new column with gdf\n",
    "selction_new = pd.concat([selction_new, road_counts.rename('road_counts')], axis=1)"
   ]
  },
  {
   "cell_type": "code",
   "execution_count": null,
   "id": "276243ed",
   "metadata": {},
   "outputs": [],
   "source": [
    "selction_new"
   ]
  },
  {
   "cell_type": "code",
   "execution_count": null,
   "id": "12a64b14",
   "metadata": {},
   "outputs": [],
   "source": [
    "selction_new['building_counts'].describe()"
   ]
  },
  {
   "cell_type": "code",
   "execution_count": null,
   "id": "181ef402",
   "metadata": {},
   "outputs": [],
   "source": [
    "selction_new['road_counts'].describe()"
   ]
  },
  {
   "cell_type": "code",
   "execution_count": null,
   "id": "a4149099",
   "metadata": {},
   "outputs": [],
   "source": [
    "threshold_building = selction_new['building_counts'].quantile(0.25)\n",
    "threshold_road = selction_new['road_counts'].quantile(0.25)"
   ]
  },
  {
   "cell_type": "code",
   "execution_count": null,
   "id": "c5309227",
   "metadata": {},
   "outputs": [],
   "source": [
    "con3 = selction_new['building_counts'] > threshold_building\n",
    "con4 = selction_new['road_counts'] > threshold_road\n",
    "selction_new_filtered = selction_new[con3 & con4]"
   ]
  },
  {
   "cell_type": "code",
   "execution_count": null,
   "id": "c38649ef",
   "metadata": {},
   "outputs": [],
   "source": [
    "selction_new_filtered"
   ]
  },
  {
   "cell_type": "code",
   "execution_count": null,
   "id": "71c58d2a",
   "metadata": {},
   "outputs": [],
   "source": [
    "selction_new_filtered = selction_new_filtered.reset_index()"
   ]
  },
  {
   "cell_type": "code",
   "execution_count": null,
   "id": "33b07ecc",
   "metadata": {},
   "outputs": [],
   "source": [
    "filepath = \"shapefiles_tweet\"\n",
    "selction_new_filtered.to_csv(f\"{filepath}/final.csv\")"
   ]
  },
  {
   "cell_type": "code",
   "execution_count": null,
   "id": "3d91ece6",
   "metadata": {},
   "outputs": [],
   "source": [
    "selction_new_rough = selction_new_filtered[:2]"
   ]
  },
  {
   "cell_type": "code",
   "execution_count": null,
   "id": "7b484f57",
   "metadata": {},
   "outputs": [],
   "source": [
    "selction_new_rough"
   ]
  },
  {
   "cell_type": "code",
   "execution_count": null,
   "id": "136265c5",
   "metadata": {},
   "outputs": [],
   "source": [
    "bounds =[]\n",
    "for index, row in  selction_new_filtered.iterrows():\n",
    "    # extract x and y values\n",
    "    target_lon = row['x']\n",
    "    target_lat = row['y']\n",
    "    half_side_in_km = 0.3145\n",
    "\n",
    "    #bounds = location.from_buffer(target_lat, target_lon, buffer_size=1000*half_side_in_km)\n",
    "    bounds1 = get_bounding_box(target_lat,target_lon,half_side_in_km)\n",
    "    bounds.append(bounds1)"
   ]
  },
  {
   "cell_type": "code",
   "execution_count": null,
   "id": "3d97c6e9",
   "metadata": {},
   "outputs": [],
   "source": [
    "#trial\n",
    "import rasterio\n",
    "from rasterio.features import rasterize\n",
    "from rasterio.transform import from_bounds\n",
    "import rasterio\n",
    "import rasterio.mask\n",
    "import geopandas as gpd\n",
    "from rasterio.enums import Resampling\n"
   ]
  },
  {
   "cell_type": "code",
   "execution_count": null,
   "id": "ba20cb49",
   "metadata": {},
   "outputs": [],
   "source": [
    "\n",
    "def rasterize(raster, vector):\n",
    "    vector = vector\n",
    "    geom = [shapes for shapes in vector.geometry]\n",
    "    raster = rasterio.open(raster, 'r')\n",
    "\n",
    "    # Rasterize vector using the shape and coordinate system of the raster\n",
    "    img_gdf1 = features.rasterize(geom,\n",
    "                                    out_shape = (64,64),\n",
    "                                    fill = 0,\n",
    "                                    out = None,\n",
    "                                    transform = raster.transform,\n",
    "                                    all_touched = True,\n",
    "                                    #default_value = 1,\n",
    "                                    dtype = None)\n",
    "    # Define the metadata for the output tif file\n",
    "    meta = raster.meta.copy()\n",
    "    meta['width'] = 64\n",
    "    meta['height'] = 64\n",
    "    #meta.update({'count':raster.count})\n",
    "    meta.update({'crs':raster.crs})\n",
    "    meta.update({'dtype': rasterio.uint8})\n",
    "    with rasterio.open(f'output_raster/Building/output_raster_building_{i+1}.tif', 'w', **meta) as out:\n",
    "        out.write(img_gdf1, 1)\n",
    "    plt.imshow(img_gdf1)\n"
   ]
  },
  {
   "cell_type": "code",
   "execution_count": null,
   "id": "8084f2ed",
   "metadata": {
    "tags": []
   },
   "outputs": [],
   "source": [
    "def rasterize1(raster, vector):\n",
    "    vector = vector\n",
    "    geom = [shapes for shapes in vector.geometry]\n",
    "    raster = rasterio.open(raster, 'r')\n",
    "\n",
    "    # Rasterize vector using the shape and coordinate system of the raster\n",
    "    img_gdf1 = features.rasterize(geom,\n",
    "                                    out_shape = (64,64),\n",
    "                                    fill = 0,\n",
    "                                    out = None,\n",
    "                                    transform = raster.transform,\n",
    "                                    all_touched = False,\n",
    "                                    #default_value = 1,\n",
    "                                    dtype = None)\n",
    "    # Define the metadata for the output tif file\n",
    "    meta = raster.meta.copy()\n",
    "    meta['width'] = 64\n",
    "    meta['height'] = 64\n",
    "    meta.update({'crs':raster.crs})\n",
    "    meta.update({'dtype': rasterio.uint8})\n",
    "    with rasterio.open(f'output_raster/Road/output_raster_road_{i}.tif', 'w', **meta) as out:\n",
    "        out.write(img_gdf1, 1)\n",
    "    plt.imshow(img_gdf1)"
   ]
  },
  {
   "cell_type": "code",
   "execution_count": null,
   "id": "a8357dbe",
   "metadata": {},
   "outputs": [],
   "source": [
    "from rasterio.transform import from_origin\n",
    "# bands to be selected\n",
    "\n",
    "band_names = ['B2', 'B3', 'B4', 'B8']\n",
    "for i, value in enumerate(bounds):\n",
    "    region = ee.Geometry.Rectangle(\n",
    "    [[value[1], value[0]],\n",
    "     [value[3], value[2]]]\n",
    "    )\n",
    "\n",
    "    myCollection = ee.ImageCollection('COPERNICUS/S2_SR_HARMONIZED') \\\n",
    "        .filterBounds(region) \\\n",
    "        .filterDate('2022-06-01', '2022-09-30') \\\n",
    "        .filterMetadata('CLOUDY_PIXEL_PERCENTAGE', 'less_than', 10) \\\n",
    "        .select(['B2', 'B3', 'B4', 'B8'])\n",
    "    listOfImages = myCollection.aggregate_array('system:index').getInfo()\n",
    "    print('Number of images in the collection: ', len(listOfImages))\n",
    "    img = myCollection.median().clip(region)\n",
    "    #img = myCollection.median().clip(region).reproject(crs = 'EPSG:28992', scale=10)\n",
    "    #img_resampled = img.resample('bicubic').reproject(crs='EPSG:28992', scale=10)\n",
    "    filename = f'output_satellite/output_raster_{i}.tif'\n",
    "\n",
    "    geemap.ee_export_image(\n",
    "        img, filename=filename, scale=10, region=region, crs='EPSG:4326', file_per_band=False)\n",
    "\n",
    "    query = overpass.ql_query(value, tag='building')\n",
    "    response = overpass.request(query)\n",
    "    feature_collection = overpass.as_geojson(response, 'polygon')\n",
    "    gdf1 = gpd.GeoDataFrame.from_features(feature_collection)\n",
    "    gdf_count = gdf1.cx[value[1]:value[3], value[0]:value[2]]\n",
    "    # Count the number of buildings\n",
    "    num_buildings = len(gdf_count)\n",
    "    print(f\"Number of buildings within the bounding box{i} : {num_buildings}\")\n",
    "    #gdf1 = gdf1.set_crs('EPSG:28992')\n",
    "    #buildings.append(gdf1)\n",
    "    #print(gdf1.columns)\n",
    "    print(i)\n",
    "    #filename_building = gdf1.to_file(f'output_building/output_building_{i}.shp') \n",
    "    gdf1.plot()\n",
    "\n",
    "    query2 = overpass.ql_query(value, tag='highway')\n",
    "    response2 = overpass.request(query2)\n",
    "    feature_collection2 = overpass.as_geojson(response2, 'linestring')\n",
    "    gdf2 = gpd.GeoDataFrame.from_features(feature_collection2)\n",
    "    gdf_count2 = gdf2.cx[value[1]:value[3], value[0]:value[2]]\n",
    "    # Count the number of buildings\n",
    "    num_roads = len(gdf_count2)\n",
    "    print(f\"Number of roads within the bounding box{i} : {num_roads}\")\n",
    "    #gdf2 = gdf2.set_crs('EPSG:28992')\n",
    "    #filename_road = gdf2.to_file(f'output_road/output_road_{i}.shp')\n",
    "    #roads.append(gdf2)\n",
    "    gdf2.plot()\n",
    "    #vect = f'output_building/output_building_{i}.shp'\n",
    "    #building_raster = rasterize(filename, gdf1)\n",
    "    #road_raster = rasterize1(filename, gdf2)"
   ]
  },
  {
   "cell_type": "code",
   "execution_count": null,
   "id": "dd423f78",
   "metadata": {},
   "outputs": [],
   "source": [
    "import rasterio\n",
    "from rasterio.plot import show"
   ]
  },
  {
   "cell_type": "code",
   "execution_count": null,
   "id": "d1a7e31d",
   "metadata": {},
   "outputs": [],
   "source": [
    "fp = r'output_satellite/output_raster_1.tif'\n",
    "with rasterio.open(fp) as src:\n",
    "    # Read the first band of the raster\n",
    "    data = src.read(3)\n",
    "    num_band =src.count\n",
    "\n",
    "                   \n",
    "# Display the raster\n",
    "show(data)\n",
    "print(data.shape)\n",
    "print(num_band)"
   ]
  },
  {
   "cell_type": "code",
   "execution_count": null,
   "id": "b8eb5c47",
   "metadata": {},
   "outputs": [],
   "source": [
    "import rasterio\n",
    "import geopandas as gpd\n",
    "from rasterio.mask import mask\n",
    "from shapely.geometry import box"
   ]
  },
  {
   "cell_type": "code",
   "execution_count": null,
   "id": "2875e36c",
   "metadata": {},
   "outputs": [],
   "source": [
    "fp = r'EuroSAT_RGB/Forest/Forest_1.jpg'\n",
    "with rasterio.open(fp) as src:\n",
    "    # Read the first band of the raster\n",
    "    data = src.read(1)\n",
    "    num_band =src.count\n",
    "\n",
    "                   \n",
    "# Display the raster\n",
    "show(data)\n",
    "print(data.shape)\n",
    "print(num_band)"
   ]
  },
  {
   "cell_type": "code",
   "execution_count": null,
   "id": "2476fcac",
   "metadata": {},
   "outputs": [],
   "source": [
    "from osgeo import gdal\n",
    "\n",
    "# Open the GeoTIFF file\n",
    "dataset = gdal.Open(\"EuroSAT_RGB/Forest/Forest_1.jpg\")\n",
    "\n",
    "# Get the spatial reference information\n",
    "projection = dataset.GetProjection()\n",
    "transform = dataset.GetGeoTransform()\n",
    "\n",
    "\n"
   ]
  },
  {
   "cell_type": "code",
   "execution_count": null,
   "id": "aec0802c",
   "metadata": {},
   "outputs": [],
   "source": [
    "# Get the image dimensions\n",
    "cols = dataset.RasterXSize\n",
    "rows = dataset.RasterYSize\n",
    "\n",
    "# Calculate the pixel size in the x and y directions\n",
    "pixel_width = transform[1]\n",
    "pixel_height = transform[5]\n"
   ]
  },
  {
   "cell_type": "code",
   "execution_count": null,
   "id": "a62c9b38",
   "metadata": {},
   "outputs": [],
   "source": [
    "\n",
    "# Calculate the latitude and longitude of the four corners of the image\n",
    "min_x = transform[0]\n",
    "max_y = transform[3]\n",
    "max_x = min_x + pixel_width * cols\n",
    "min_y = max_y + pixel_height * rows\n"
   ]
  },
  {
   "cell_type": "code",
   "execution_count": null,
   "id": "22f1809a",
   "metadata": {},
   "outputs": [],
   "source": [
    "\n",
    "# Print the latitude and longitude information\n",
    "print(\"Latitude: {:.4f} to {:.4f}\".format(min_y, max_y))\n",
    "print(\"Longitude: {:.4f} to {:.4f}\".format(min_x, max_x))"
   ]
  },
  {
   "cell_type": "code",
   "execution_count": null,
   "id": "abde94b6",
   "metadata": {},
   "outputs": [],
   "source": []
  }
 ],
 "metadata": {
  "kernelspec": {
   "display_name": "Python 3",
   "language": "python",
   "name": "python3"
  },
  "language_info": {
   "codemirror_mode": {
    "name": "ipython",
    "version": 3
   },
   "file_extension": ".py",
   "mimetype": "text/x-python",
   "name": "python",
   "nbconvert_exporter": "python",
   "pygments_lexer": "ipython3",
   "version": "3.9.11"
  }
 },
 "nbformat": 4,
 "nbformat_minor": 5
}
